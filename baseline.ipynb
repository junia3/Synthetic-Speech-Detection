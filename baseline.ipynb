{
 "cells": [
  {
   "cell_type": "markdown",
   "metadata": {},
   "source": [
    "# Dataset example (LFCC)"
   ]
  },
  {
   "cell_type": "code",
   "execution_count": null,
   "metadata": {},
   "outputs": [],
   "source": [
    "from datasets.dataset import LADataset, collate_fn\n",
    "from torch.utils.data import DataLoader\n",
    "from spafe.utils.vis import show_features\n",
    "\n",
    "# Configure txtpath and data directory\n",
    "txtpath = \"datasets/LA/ASVspoof2019_LA_cm_protocols/ASVspoof2019.LA.cm.train.trn.txt\"\n",
    "datadir = \"datasets/LA/ASVspoof2019_LA_train/\"\n",
    "\n",
    "# Training dataset\n",
    "train_dataset = LADataset(split=\"train\", transforms=\"lfcc\",\n",
    "                          n_fft=512, num_features=20, txtpath=txtpath, datadir=datadir)\n",
    "# visualize features\n",
    "show_features(train_dataset[0][0].numpy(), \"Linear Frequency Cepstral Coefficients\", \"LFCC Index\", \"Frame Index\")"
   ]
  },
  {
   "cell_type": "markdown",
   "metadata": {},
   "source": [
    "# Simple framework Training"
   ]
  },
  {
   "cell_type": "code",
   "execution_count": null,
   "metadata": {},
   "outputs": [],
   "source": [
    "from models.resnet import ResNet\n",
    "import torch\n",
    "import torch.nn as nn\n",
    "import os\n",
    "import torch.nn.functional as F\n",
    "from tqdm import tqdm\n",
    "\n",
    "# Define device\n",
    "device = \"cuda\" if torch.cuda.is_available() else \"cpu\"\n",
    "print(f\"Current device is : {device}\")"
   ]
  },
  {
   "cell_type": "markdown",
   "metadata": {},
   "source": [
    "## Trainer function"
   ]
  },
  {
   "cell_type": "code",
   "execution_count": null,
   "metadata": {},
   "outputs": [],
   "source": [
    "from utils.train import trainer"
   ]
  },
  {
   "cell_type": "markdown",
   "metadata": {},
   "source": [
    "## Training config"
   ]
  },
  {
   "cell_type": "code",
   "execution_count": null,
   "metadata": {},
   "outputs": [],
   "source": [
    "model = ResNet(3, 256, '18', nclasses=2).to(device)\n",
    "\n",
    "# Configure txtpath and data directory\n",
    "train_txtpath = \"datasets/LA/ASVspoof2019_LA_cm_protocols/ASVspoof2019.LA.cm.train.trn.txt\"\n",
    "train_datadir = \"datasets/LA/ASVspoof2019_LA_train/\"\n",
    "\n",
    "# Configure txtpath and data directory\n",
    "val_txtpath = \"datasets/LA/ASVspoof2019_LA_cm_protocols/ASVspoof2019.LA.cm.dev.trl.txt\"\n",
    "val_datadir = \"datasets/LA/ASVspoof2019_LA_dev/\"\n",
    "\n",
    "train_dataset = LADataset(split=\"train\", transforms=\"lfcc\", n_fft=512, num_features=20, txtpath=train_txtpath, datadir=train_datadir)\n",
    "val_dataset = LADataset(split=\"dev\", transforms=\"lfcc\", n_fft=512, num_features=20, txtpath=val_txtpath, datadir=val_datadir)\n",
    "\n",
    "learning_rate = 0.0003\n",
    "optimizer = torch.optim.Adam(model.parameters(), lr=learning_rate, betas=(0.9, 0.999), eps=1e-8, weight_decay=0.0005)\n",
    "scheduler = torch.optim.lr_scheduler.StepLR(optimizer, gamma=0.5, step_size=10)\n",
    "epochs = 10\n",
    "batch_size = 64"
   ]
  },
  {
   "cell_type": "code",
   "execution_count": null,
   "metadata": {},
   "outputs": [],
   "source": [
    "trainer(model, train_dataset, val_dataset, optimizer, scheduler, epochs, loss_opt='ce', batch_size=batch_size, exp_name=\"baseline\", device=device)"
   ]
  },
  {
   "cell_type": "code",
   "execution_count": null,
   "metadata": {},
   "outputs": [],
   "source": []
  }
 ],
 "metadata": {
  "kernelspec": {
   "display_name": "Python 3.8.0 ('junyoung')",
   "language": "python",
   "name": "python3"
  },
  "language_info": {
   "codemirror_mode": {
    "name": "ipython",
    "version": 3
   },
   "file_extension": ".py",
   "mimetype": "text/x-python",
   "name": "python",
   "nbconvert_exporter": "python",
   "pygments_lexer": "ipython3",
   "version": "3.8.0"
  },
  "orig_nbformat": 4,
  "vscode": {
   "interpreter": {
    "hash": "27906ade97c7520c4c317af0965a953f0a1d71767bc3d2f24e9a43aa40e86d6d"
   }
  }
 },
 "nbformat": 4,
 "nbformat_minor": 2
}
